{
 "cells": [
  {
   "cell_type": "markdown",
   "metadata": {},
   "source": [
    "# Integración y Derivación Básica"
   ]
  },
  {
   "cell_type": "markdown",
   "metadata": {},
   "source": [
    "La evaluación numérica de integrales es un concepto central en las ciencias. A pesar de que usualmente buscamos soluciones análiticas para obtener expresiones cerradas con técnicas sofisticadas (e.g., valores principales, extensión analítica), es usualmente muy complicado o incluso *imposible* encontrar estas soluciones para una gran gama de problemas.\n",
    "\n",
    "En esta clase, vamos a estudiar distintas técnicas para evaluar integrales de forma numérica. Note que las integrales se pueden ver en algunos casos como la solución a una ecuación diferencial, de manera tal que podemos usar estas técnicas para evaluar derivadas. Sin embargo, para soluciones de ecuaciones diferenciales veremos otras técnicas de integración más adelante."
   ]
  },
  {
   "cell_type": "markdown",
   "metadata": {},
   "source": [
    "## Conceptos fundamentales"
   ]
  },
  {
   "cell_type": "markdown",
   "metadata": {},
   "source": [
    "La idea básica corresponde a:\n",
    "\n",
    "* Pensar las integrales como áreas bajo una curva\n",
    "* Aproximar estas áreas usando formas básicas (rectángulos, trapezoides, rectángulos con punto alto polinomial...)\n",
    "\n",
    "La forma más básica corresponde a utilizar rectángulos. El procedimiento que se conoce como sumas de Riemann:\n",
    "\\begin{equation}\n",
    "I(a, b) = \\int_{a}^{b} {\\rm{d}}x f(x) \\approx \\sum_{k=1}^{N} f(x_k) h,\n",
    "\\end{equation}\n",
    "done $h$ corresponde al ancho del rectángulo y $f(x_k)$ es la función a integrar evaluada en el punto $x_k$, con dominio de $x$ discretizado en una grilla unidimensional, tal que $N$ corresponde al número de \"pasos\" que satisface $b = a + (N * h)$."
   ]
  },
  {
   "cell_type": "markdown",
   "metadata": {},
   "source": [
    "![](Fig1.png)"
   ]
  },
  {
   "cell_type": "markdown",
   "metadata": {},
   "source": [
    "## Regla de trapezoides\n",
    "\n",
    "<div>\n",
    "<img src=\"Fig2.png\" width=\"350\"/>\n",
    "</div>\n",
    "\n",
    "Para aplicar la regla de trapezoides:\n",
    "\n",
    "* Dividimos el intervalo en $N$ subregiones\n",
    "* La función se aproxima con segmentos en cada subregión\n",
    "\n",
    "De esta forma, tenemos $N$ subregiones de ancho\n",
    "\\begin{equation}\n",
    "h = \\frac{b - a}{N}\n",
    "\\end{equation}\n",
    "\n",
    "El área del trapezoide con índice k está dada por (rectángulo + triángulo)\n",
    "\\begin{align}\n",
    "A_k &= hf(x_k) + \\frac{h [f(x_k + h) - f(x_k)]}{2} \\\\\n",
    "&= \\frac{h [f(x_k + h) + f(x_k)]}{2}\n",
    "\\end{align}\n",
    "\n",
    "De esta manera, podemos aproximar la integral por la suma total de los trapezios. Definiendo $x_k = a + kh$, tenemos\n",
    "\\begin{align}\n",
    "\\boxed{I(a, b) \\approx h\\left[\\frac12 f(a) + \\frac12f(b) + \\sum_{k=1}^{N-1} f(a+kh)\\right]}.\n",
    "\\end{align}\n",
    "\n",
    "Note la similitud con la suma de Riemann, con la excepción de los puntos finales e iniciales. A pesar de esto, la diferencia en la aproximación es significante!"
   ]
  },
  {
   "cell_type": "markdown",
   "metadata": {},
   "source": [
    "## Regla de Simpson\n",
    "\n",
    "<div>\n",
    "<img src=\"Fig3.png\" width=\"350\"/>\n",
    "</div>\n",
    "\n",
    "La regla de Simpson es similar a la anterior, con la excepción de que entre cada punto $x_k$ y $x_{k+1}$, la función no se aproxima con una línea recta como en la regla de trapezoides, si no con una función cuadrática.\n",
    "\n",
    "Puntos importantes al aplicar la regla de Simpson:\n",
    "\n",
    "* De la misma forma, subdividimos la región en $N$ subregiones. \n",
    "    - $N$ debe ser un número par! Si no es par, se descarta un elemento de la región de integración o se utiliza la regla de trapezoides para el último punto.\n",
    "* La función de integración se aproxima con una función **cuadrática** por cada dos elementos de la subregión.\n",
    "* Se necesitan dos elementos porque se requiren tres puntos para definir la función cuadrática\n",
    "* Igual que con toda la metología de esta clase, más elementos $\\implies$ mejor aproximación.\n",
    "* La idea es que con esta aproximación de orden mayor, se obtiene una mejor aproximación con menos elementos de integración.\n",
    "\n",
    "Utilizando la misma notación que utilizamos anteriormente, el área de cada **dos segmentos con la función aproximada de manera cuadrática** está dada por\n",
    "\\begin{align}\n",
    "A_k = \\frac{h}3\\left\\{f[a+(2k-2)h] + 4f[a+(2k-1)h] + f(a+2kh)\\right\\}.\n",
    "\\end{align}\n",
    "De manera tal que, al sumar todos los segmentos obtenemos\n",
    "\\begin{align}\n",
    "\\boxed{I(a,b) \\approx \\frac{h}3\\left[f(a) + f(b) + 4\\sum_{\\substack{k\\ impar\\\\ 1\\dots{}N-1}}f(a+kh) + 2\\sum_{\\substack{k\\ par \\\\ 2\\dots{}N-2}}f(a+kh)\\right].}\n",
    "\\end{align}\n",
    "\n",
    "* En Python, se puede sumar fácilmente utilizando solamente números pares e impares, con la siguiente sintaxis:\n",
    "    - `for k in range(1, N, 2)` para los términos impares y\n",
    "    - `for k in range(2, N, 2)` para los términos pares."
   ]
  },
  {
   "cell_type": "markdown",
   "metadata": {},
   "source": [
    "## Fórmulas de Newton-Cotes\n",
    "\n",
    "La regla de Simpson y de trapezoides pertenecen a una clase más general de reglas de integración:\n",
    "\n",
    "* Subdividir la región de integración en $N$ subintervalos\n",
    "* Aproximar la función con un polinomio, el orden de la aproximación es tal que:\n",
    "    - Orden 0: Suma de Riemann\n",
    "    - Orden 1: Regla de trapezoides\n",
    "    - Order 2: Regla de Simpson\n",
    "\n",
    "Esta clase de métodos da lugar a las fórmulas de Newton-Cotes.\n",
    "Todas las fórmulas de Newton-Cotes puede ser escritas de la forma\n",
    "\\begin{align}\n",
    "\\int_a^b {\\rm{d}}x f(x) \\approx \\sum_{k=1}^{N+1} w_k f(x_k).\n",
    "\\end{align}\n",
    "donde:\n",
    "  * $w_k$ son los \"pesos\"\n",
    "  * $x_k$ son los puntos de muestreo. Nótese que usamos $N+1$ puntos (es decir, $N$ subregiones o subintervalos)\n",
    "  * Para las fórmulas de Newton-Cotes, los puntos de muestreo son **equidistantes**."
   ]
  },
  {
   "cell_type": "markdown",
   "metadata": {},
   "source": [
    "## Generalización\n",
    "\n",
    "Orden | Polinomio | Coeficientes |\n",
    ":---: | :---: | :---: |\n",
    "1 | Línea | $\\frac{1}{2}, 1, 1,\\dots, 1, \\frac{1}{2}$ |\n",
    "2 | Parábola | $\\frac13, \\frac43, \\frac23, \\frac43,\\dots, \\frac23, \\frac43, \\frac13$ |\n",
    "3 | Cúbico | $\\frac38, \\frac98, \\frac98, \\frac34, \\frac98, \\frac98, \\frac34, \\dots, \\frac98, \\frac 38$ |\n",
    "4 | Cuártico | $\\frac{14}{45}, \\frac{64}{45}, \\frac{8}{15}, \\frac{64}{45}, \\frac{28}{45}, \\frac{64}{45},\\dots,\\frac{64}{45}, \\frac{14}{45}$ |"
   ]
  },
  {
   "cell_type": "markdown",
   "metadata": {},
   "source": [
    "## Estimación de errores\n",
    "\n",
    "Uno de los temas más importantes de los métodos numéricos corresponde a estudiar y analizar los errores en los que incurrimos utilizando metodología numérica\n",
    "\n",
    "* Por ejemplo, si utilizamos la regla de trapezoides con un valor fijo de $N$, el valor real de la integral y nuestra aproximación difieren\n",
    "* Conforme incrementamos $N$, la aproximación mejora\n",
    "* El análisis de errores se refiere a **que tasa decrece o incrementa el error conforme variamos los recursos numéricos** (en este caso, $h$, que depende de $N$)\n",
    "\n",
    "En la mayoría de métodos numéricos complejos, usualmente se desconoce este error. En matemática aplicada, para estos casos, se suelen estimar **cotas superiores** al error.\n",
    "\n",
    "## Ecuaciones de Euler-McLaurin para estimación de errores\n",
    "\n",
    "Para nuestras estimaciones de integrales, podemos basar nuestros cálculos en expansiones de Taylor para estimar el error. \n",
    "\n",
    "Por ejemplo, para la regla de trapezoides:\n",
    "\\begin{align}\n",
    "I(a, b) = \\int_a^b {\\rm{d}}x f(x) \\underbrace{=}_{ojo!} \\underbrace{h\\left[\\frac12 f(a) + \\frac12f(b) + \\sum_{k=1}^{N-1} f(a+kh)\\right]}_{\\text{el método}} + \\underbrace{\\epsilon}_{\\text{el error}}\n",
    "\\end{align}\n",
    "\n",
    "* Para la regla de trapezoides es una estimación de 1$^{\\rm er}$ orden, lo cual implica que es una estimación correcta con respecto a términos de orden $h$. El error es de 2$^{\\rm do}$ orden:\n",
    "$$\\boxed{\\epsilon = \\frac{h^2[f'(a) - f'(b)]}{12} + O(h^{\\geq 3})}$$\n",
    "\n",
    "* La regla de Simpson es una estimación de 3$^{\\rm er}$ orden y su estimación es correcta a términos proporcionales a $h^3$. El error es de orden proporcional a $h^4$:\n",
    "$$\\boxed{\\epsilon = \\frac{h^4[f'''(a) - f'''(b)]}{180} + O(h^{\\geq 5})}$$"
   ]
  },
  {
   "cell_type": "markdown",
   "metadata": {},
   "source": [
    "## Métodos adaptativos\n",
    "\n",
    "Las ecuaciones de Euler-McLaurin suponen que conocemos las derivadas de la función que corresponde al argumento de integración. \n",
    "Que pasa si desconocemos estas derivadas?\n",
    "\n",
    "Los métodos adaptativos se pueden utilizar para en estos casos, con base en el **orden de nuestra aproximación**. \n",
    "\n",
    "La idea corresponde a estimar la integral usando $N$ intervalos, luego hacer la misma estimación con $2N$ intervalos. Dependiendo del orden de la estimación, el error se puede evaluar de la siguiente manera:\n",
    "\n",
    "* Orden 1 (Trapezoides): $\\epsilon = (I_{2N} - I_N) / 3$\n",
    "* Orden 2 (Simpson): $\\epsilon = (I_{2N} - I_N) / 15$\n",
    "\n",
    "Estas ecuaciones son importantes por dos razones:\n",
    "* Si conocemos $\\epsilon$, podemos estimar $I_{2N}$ de forma gratuita :)\n",
    "* Podemos utilizar los resultados intermedios de $I_N$ para evaluar $I_{2N}$"
   ]
  },
  {
   "cell_type": "markdown",
   "metadata": {},
   "source": [
    "### Derivaciones y más sobre el tema\n",
    "\n",
    "Ver: Computational Physics - Mark Newman (Capítulo 5)"
   ]
  },
  {
   "cell_type": "markdown",
   "metadata": {},
   "source": [
    "# Laboratorio\n",
    "\n",
    "Utilice el método de trapezoides (Simpson si hay tiempo) para evaluar \n",
    "\\begin{align}\n",
    "E(x) = \\int_{0}^{x} {\\rm{d}}t e^{-t^2}.\n",
    "\\end{align}\n",
    "\n",
    "Realice un gráfico de $E(x)$ como función de $x$. Esta integral no tiene solución analítica!! :o"
   ]
  },
  {
   "cell_type": "code",
   "execution_count": 102,
   "metadata": {},
   "outputs": [],
   "source": [
    "# por trapezoides\n",
    "\n",
    "import numpy as np"
   ]
  },
  {
   "cell_type": "code",
   "execution_count": 118,
   "metadata": {},
   "outputs": [],
   "source": [
    "def f(x):\n",
    "    return np.exp(-x**(2))"
   ]
  },
  {
   "cell_type": "code",
   "execution_count": 134,
   "metadata": {},
   "outputs": [],
   "source": [
    "a=0\n",
    "b=1\n",
    "times = np.linspace(0.0, 10.0, 200)\n",
    "\n",
    "h=(b-a)/times.size"
   ]
  },
  {
   "cell_type": "code",
   "execution_count": 135,
   "metadata": {},
   "outputs": [],
   "source": [
    "fn = np.zeros(times.size)\n",
    "f_n=0\n",
    "for tt in range(1,times.size):\n",
    "    f_n+=f(a+tt*h)\n",
    "    fn[tt]=h*(f(a)/2+f(b)/2+f_n)\n"
   ]
  },
  {
   "cell_type": "code",
   "execution_count": 136,
   "metadata": {},
   "outputs": [
    {
     "name": "stdout",
     "output_type": "stream",
     "text": [
      "0.7468225999801448\n"
     ]
    }
   ],
   "source": [
    "E_n=h*(f(a)/2+f(b)/2+f_n)\n",
    "print(E_n)"
   ]
  },
  {
   "cell_type": "code",
   "execution_count": 137,
   "metadata": {},
   "outputs": [],
   "source": [
    "# por Simpson Method\n",
    "En = np.zeros(times.size)\n",
    "f_par=0\n",
    "f_nom=0\n",
    "\n",
    "for tt in range(1, times.size):\n",
    "    if tt % 2 == 0:\n",
    "        f_par+=f(a+tt*h)\n",
    "    else:\n",
    "        f_nom+=f(a+tt*h)\n",
    "    En[tt]=h/3 * (f(a)+f(b)+4*f_nom+2*f_par)"
   ]
  },
  {
   "cell_type": "code",
   "execution_count": 138,
   "metadata": {},
   "outputs": [
    {
     "name": "stdout",
     "output_type": "stream",
     "text": [
      "0.7468241328175366\n"
     ]
    }
   ],
   "source": [
    "E_n = h/3 * (f(a)+f(b)+4*f_nom+2*f_par)\n",
    "\n",
    "print(E_n)"
   ]
  },
  {
   "cell_type": "code",
   "execution_count": 141,
   "metadata": {},
   "outputs": [
    {
     "data": {
      "image/png": "[encoded data removed]",
      "text/plain": [
       "<Figure size 640x480 with 1 Axes>"
      ]
     },
     "metadata": {},
     "output_type": "display_data"
    }
   ],
   "source": [
    "import matplotlib.pyplot as plt\n",
    "\n",
    "plt.plot(times,fn,'r')\n",
    "plt.plot(times,En,'b')\n",
    "plt.show()"
   ]
  },
  {
   "cell_type": "code",
   "execution_count": null,
   "metadata": {},
   "outputs": [],
   "source": []
  }
 ],
 "metadata": {
  "anaconda-cloud": {},
  "kernelspec": {
   "display_name": "Python 3 (ipykernel)",
   "language": "python",
   "name": "python3"
  },
  "language_info": {
   "codemirror_mode": {
    "name": "ipython",
    "version": 3
   },
   "file_extension": ".py",
   "mimetype": "text/x-python",
   "name": "python",
   "nbconvert_exporter": "python",
   "pygments_lexer": "ipython3",
   "version": "3.10.12"
  }
 },
 "nbformat": 4,
 "nbformat_minor": 4
}
